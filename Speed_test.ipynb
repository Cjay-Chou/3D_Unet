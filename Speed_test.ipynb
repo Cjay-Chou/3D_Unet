{
 "cells": [
  {
   "cell_type": "markdown",
   "metadata": {},
   "source": [
    "# Too slow if read part file, waiting for better solution."
   ]
  },
  {
   "cell_type": "code",
   "execution_count": 1,
   "metadata": {},
   "outputs": [],
   "source": [
    "import os\n",
    "import SimpleITK as sitk\n",
    "import numpy as np\n",
    "import time"
   ]
  },
  {
   "cell_type": "code",
   "execution_count": 3,
   "metadata": {},
   "outputs": [
    {
     "name": "stdout",
     "output_type": "stream",
     "text": [
      "0.09618020057678223\n",
      "15\n"
     ]
    }
   ],
   "source": [
    "start_t = time.time()\n",
    "count = 0\n",
    "for i in range(1,16):\n",
    "    count+=1\n",
    "    patch_ct_path = r\"E:\\Script_hist\\patch\\com30\\hist00\\ctimg0001\\image{}.mha\".format(i)\n",
    "    patch_image=sitk.ReadImage(patch_ct_path)\n",
    "    patch_image_arry = sitk.GetArrayFromImage(patch_image)\n",
    "end16_t = time.time()\n",
    "print(end16_t-start_t)\n",
    "print(count)"
   ]
  },
  {
   "cell_type": "code",
   "execution_count": 4,
   "metadata": {},
   "outputs": [
    {
     "data": {
      "text/plain": [
       "(128, 128, 32)"
      ]
     },
     "execution_count": 4,
     "metadata": {},
     "output_type": "execute_result"
    }
   ],
   "source": [
    "patch_image_arry.shape"
   ]
  },
  {
   "cell_type": "code",
   "execution_count": 7,
   "metadata": {},
   "outputs": [],
   "source": [
    "patch_size = (128,128,32)\n",
    "start_point = (128,128,32)\n",
    "file_shape = (512,512,147)\n",
    "\n",
    "def read_patch(patch_size,start_point,file_shape,file):\n",
    "    pic = []\n",
    "    with open(file,\"rb\") as f:\n",
    "        for xi in range(start_point[0],start_point[0]+patch_size[0]):\n",
    "            for yi in range(start_point[1],start_point[1]+patch_size[1]):\n",
    "                start = xi*file_shape[1]*file_shape[2]+yi*file_shape[2]+start_point[2]\n",
    "                f.seek(start)\n",
    "                nums = f.readlines(patch_size[2])\n",
    "                \n",
    "                for i in range(0,patch_size[2]*2,2):\n",
    "                    num = int.from_bytes(nums[i:i+2],byteorder='little', signed=True)\n",
    "                    pic.append(num)\n",
    "    return np.array(pic).reshape(patch_size)\n"
   ]
  },
  {
   "cell_type": "code",
   "execution_count": 8,
   "metadata": {},
   "outputs": [
    {
     "name": "stdout",
     "output_type": "stream",
     "text": [
      "4.659423351287842\n",
      "16\n"
     ]
    }
   ],
   "source": [
    "start_t = time.time()\n",
    "count = 0\n",
    "for i in range(0,255,16):\n",
    "    start_point = (i,i,32)\n",
    "    patch_image_arry = read_patch(patch_size,start_point,file_shape,\"speed_test.txt\")\n",
    "    count+=1\n",
    "end16_t = time.time()\n",
    "print(end16_t-start_t)\n",
    "print(count)"
   ]
  },
  {
   "cell_type": "code",
   "execution_count": 2,
   "metadata": {},
   "outputs": [],
   "source": [
    "example_ct_path = r\"E:\\hist_01\\comp30\\img0001\\c_ct.mha\"\n",
    "image=sitk.ReadImage(example_ct_path)\n",
    "image_arry = sitk.GetArrayFromImage(image)"
   ]
  },
  {
   "cell_type": "code",
   "execution_count": 19,
   "metadata": {},
   "outputs": [],
   "source": [
    "# x,y,z\n",
    "list_ct = list(image_arry.flatten())\n",
    "for i in range(len(list_ct)):\n",
    "    list_ct[i] = str(list_ct[i])"
   ]
  },
  {
   "cell_type": "code",
   "execution_count": 17,
   "metadata": {},
   "outputs": [],
   "source": [
    "list_ct_int = list(image_arry.flatten())"
   ]
  },
  {
   "cell_type": "code",
   "execution_count": 20,
   "metadata": {},
   "outputs": [],
   "source": [
    "with open(\"speed_test_int.txt\",\"wb\") as f:\n",
    "    f.writelines(list_ct_int)"
   ]
  },
  {
   "cell_type": "code",
   "execution_count": 20,
   "metadata": {},
   "outputs": [],
   "source": [
    "with open(\"speed_test.txt\",\"w\") as f:\n",
    "    f.writelines([line+'\\n' for line in list_ct])"
   ]
  },
  {
   "cell_type": "code",
   "execution_count": 42,
   "metadata": {},
   "outputs": [
    {
     "name": "stdout",
     "output_type": "stream",
     "text": [
      "int16\n",
      "38535168\n"
     ]
    }
   ],
   "source": [
    "print(list_ct_int[0].dtype)\n",
    "print(len(list_ct_int))"
   ]
  },
  {
   "cell_type": "code",
   "execution_count": 21,
   "metadata": {},
   "outputs": [
    {
     "data": {
      "text/plain": [
       "38535168"
      ]
     },
     "execution_count": 21,
     "metadata": {},
     "output_type": "execute_result"
    }
   ],
   "source": [
    "with open(\"speed_test.txt\",\"r\") as fin:\n",
    "    #fin.seek(0)\n",
    "    data = fin.readlines()\n",
    "len(data)"
   ]
  },
  {
   "cell_type": "code",
   "execution_count": 18,
   "metadata": {},
   "outputs": [
    {
     "data": {
      "text/plain": [
       "'-1024-1024'"
      ]
     },
     "execution_count": 18,
     "metadata": {},
     "output_type": "execute_result"
    }
   ],
   "source": [
    "data"
   ]
  },
  {
   "cell_type": "code",
   "execution_count": 52,
   "metadata": {},
   "outputs": [],
   "source": [
    "pic = []\n",
    "\n",
    "for i in range(0,1000,2):\n",
    "    num = int.from_bytes(data[i:i+2],byteorder='little', signed=True)\n",
    "    pic.append(num)"
   ]
  },
  {
   "cell_type": "code",
   "execution_count": 90,
   "metadata": {},
   "outputs": [],
   "source": [
    "result = read_patch(patch_size,start_point,file_shape,\"speed_test_int.txt\")"
   ]
  },
  {
   "cell_type": "code",
   "execution_count": null,
   "metadata": {},
   "outputs": [],
   "source": []
  }
 ],
 "metadata": {
  "kernelspec": {
   "display_name": "Python 3",
   "language": "python",
   "name": "python3"
  },
  "language_info": {
   "codemirror_mode": {
    "name": "ipython",
    "version": 3
   },
   "file_extension": ".py",
   "mimetype": "text/x-python",
   "name": "python",
   "nbconvert_exporter": "python",
   "pygments_lexer": "ipython3",
   "version": "3.6.7"
  }
 },
 "nbformat": 4,
 "nbformat_minor": 2
}
