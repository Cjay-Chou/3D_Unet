{
 "cells": [
  {
   "cell_type": "markdown",
   "metadata": {},
   "source": [
    "# Too slow if read part file, waiting for better solution."
   ]
  },
  {
   "cell_type": "code",
   "execution_count": 6,
   "metadata": {
    "pycharm": {
     "is_executing": false
    }
   },
   "outputs": [],
   "source": [
    "import os\n",
    "import SimpleITK as sitk\n",
    "import numpy as np\n",
    "import time"
   ]
  },
  {
   "cell_type": "code",
   "execution_count": 7,
   "metadata": {
    "pycharm": {
     "is_executing": false
    }
   },
   "outputs": [
    {
     "name": "stdout",
     "text": [
      "0.06682014465332031\n10\n"
     ],
     "output_type": "stream"
    }
   ],
   "source": [
    "start_t = time.time()\n",
    "count = 0\n",
    "for i in range(1,11):\n",
    "    count+=1\n",
    "    patch_ct_path = r\"test_data\\image{}.mha\".format(i)\n",
    "    patch_image=sitk.ReadImage(patch_ct_path)\n",
    "    patch_image_arry = sitk.GetArrayFromImage(patch_image)\n",
    "end16_t = time.time()\n",
    "print(end16_t-start_t)\n",
    "print(count)"
   ]
  },
  {
   "cell_type": "code",
   "execution_count": 8,
   "metadata": {
    "pycharm": {
     "is_executing": false
    }
   },
   "outputs": [
    {
     "data": {
      "text/plain": "(128, 128, 32)"
     },
     "metadata": {},
     "output_type": "execute_result",
     "execution_count": 8
    }
   ],
   "source": [
    "patch_image_arry.shape"
   ]
  },
  {
   "cell_type": "code",
   "execution_count": 9,
   "metadata": {
    "pycharm": {
     "is_executing": false
    }
   },
   "outputs": [],
   "source": [
    "import struct\n",
    "\n",
    "def read_patch(patch_size,start_point,file_shape,file):\n",
    "    pic = []\n",
    "    utime_read = 0\n",
    "    utime_convert = 0\n",
    "    with open(file,\"rb\") as f:\n",
    "        for xi in range(start_point[0],start_point[0]+patch_size[0]):\n",
    "            for yi in range(start_point[1],start_point[1]+patch_size[1]):\n",
    "                start = xi*file_shape[1]*file_shape[2]+yi*file_shape[2]+start_point[2]\n",
    "                time1 = time.time()\n",
    "                f.seek(start)\n",
    "                nums = f.read(patch_size[2]*2)\n",
    "                time2 = time.time()\n",
    "                #for i in range(0,patch_size[2]*2,2):\n",
    "                nums = list(struct.unpack(\"<h$\", nums))\n",
    "                    #num = int.from_bytes(nums[i:i+2],byteorder='little', signed=True)\n",
    "                pic+=nums\n",
    "                time3 = time.time()\n",
    "                utime_read+=time2-time1\n",
    "                utime_convert += time3-time2\n",
    "\n",
    "    myresult = np.array(pic).reshape(patch_size)\n",
    "\n",
    "    return myresult, utime_read, utime_convert\n"
   ]
  },
  {
   "cell_type": "code",
   "execution_count": 10,
   "metadata": {
    "pycharm": {
     "is_executing": false
    }
   },
   "outputs": [
    {
     "traceback": [
      "\u001b[1;31m---------------------------------------------------------------------------\u001b[0m",
      "\u001b[1;31merror\u001b[0m                                     Traceback (most recent call last)",
      "\u001b[1;32m<ipython-input-10-db07839222cb>\u001b[0m in \u001b[0;36m<module>\u001b[1;34m\u001b[0m\n\u001b[0;32m     10\u001b[0m     \u001b[0mstart_point\u001b[0m \u001b[1;33m=\u001b[0m \u001b[1;33m(\u001b[0m\u001b[0mi\u001b[0m\u001b[1;33m,\u001b[0m\u001b[0mi\u001b[0m\u001b[1;33m,\u001b[0m\u001b[1;36m32\u001b[0m\u001b[1;33m)\u001b[0m\u001b[1;33m\u001b[0m\u001b[1;33m\u001b[0m\u001b[0m\n\u001b[0;32m     11\u001b[0m     \u001b[0mpatch_image_arry\u001b[0m\u001b[1;33m,\u001b[0m \u001b[0mutime_read\u001b[0m\u001b[1;33m,\u001b[0m \u001b[0mutime_convert\u001b[0m \u001b[1;33m=\u001b[0m\u001b[0;31m \u001b[0m\u001b[0;31m\\\u001b[0m\u001b[1;33m\u001b[0m\u001b[1;33m\u001b[0m\u001b[0m\n\u001b[1;32m---> 12\u001b[1;33m         \u001b[0mread_patch\u001b[0m\u001b[1;33m(\u001b[0m\u001b[0mpatch_size\u001b[0m\u001b[1;33m,\u001b[0m\u001b[0mstart_point\u001b[0m\u001b[1;33m,\u001b[0m\u001b[0mfile_shape\u001b[0m\u001b[1;33m,\u001b[0m\u001b[1;34m\"test_data\\speed_test_int.txt\"\u001b[0m\u001b[1;33m)\u001b[0m\u001b[1;33m\u001b[0m\u001b[1;33m\u001b[0m\u001b[0m\n\u001b[0m\u001b[0;32m     13\u001b[0m     \u001b[0mcount\u001b[0m\u001b[1;33m+=\u001b[0m\u001b[1;36m1\u001b[0m\u001b[1;33m\u001b[0m\u001b[1;33m\u001b[0m\u001b[0m\n\u001b[0;32m     14\u001b[0m     \u001b[0mutime_read_all\u001b[0m\u001b[1;33m+=\u001b[0m\u001b[0mutime_read\u001b[0m\u001b[1;33m\u001b[0m\u001b[1;33m\u001b[0m\u001b[0m\n",
      "\u001b[1;32m<ipython-input-9-32f517b9707b>\u001b[0m in \u001b[0;36mread_patch\u001b[1;34m(patch_size, start_point, file_shape, file)\u001b[0m\n\u001b[0;32m     14\u001b[0m                 \u001b[0mtime2\u001b[0m \u001b[1;33m=\u001b[0m \u001b[0mtime\u001b[0m\u001b[1;33m.\u001b[0m\u001b[0mtime\u001b[0m\u001b[1;33m(\u001b[0m\u001b[1;33m)\u001b[0m\u001b[1;33m\u001b[0m\u001b[1;33m\u001b[0m\u001b[0m\n\u001b[0;32m     15\u001b[0m                 \u001b[1;31m#for i in range(0,patch_size[2]*2,2):\u001b[0m\u001b[1;33m\u001b[0m\u001b[1;33m\u001b[0m\u001b[1;33m\u001b[0m\u001b[0m\n\u001b[1;32m---> 16\u001b[1;33m                 \u001b[0mnums\u001b[0m \u001b[1;33m=\u001b[0m \u001b[0mlist\u001b[0m\u001b[1;33m(\u001b[0m\u001b[0mstruct\u001b[0m\u001b[1;33m.\u001b[0m\u001b[0munpack\u001b[0m\u001b[1;33m(\u001b[0m\u001b[1;34m\"<h$\"\u001b[0m\u001b[1;33m,\u001b[0m \u001b[0mnums\u001b[0m\u001b[1;33m)\u001b[0m\u001b[1;33m)\u001b[0m\u001b[1;33m\u001b[0m\u001b[1;33m\u001b[0m\u001b[0m\n\u001b[0m\u001b[0;32m     17\u001b[0m                     \u001b[1;31m#num = int.from_bytes(nums[i:i+2],byteorder='little', signed=True)\u001b[0m\u001b[1;33m\u001b[0m\u001b[1;33m\u001b[0m\u001b[1;33m\u001b[0m\u001b[0m\n\u001b[0;32m     18\u001b[0m                 \u001b[0mpic\u001b[0m\u001b[1;33m+=\u001b[0m\u001b[0mnums\u001b[0m\u001b[1;33m\u001b[0m\u001b[1;33m\u001b[0m\u001b[0m\n",
      "\u001b[1;31merror\u001b[0m: bad char in struct format"
     ],
     "ename": "error",
     "evalue": "bad char in struct format",
     "output_type": "error"
    }
   ],
   "source": [
    "patch_size = (128,128,32)\n",
    "start_point = (128,128,32)\n",
    "file_shape = (512,512,147)\n",
    "time_all = 0\n",
    "start_t = time.time()\n",
    "count = 0\n",
    "utime_read_all = 0\n",
    "utime_convert_all = 0\n",
    "for i in range(0,100,10):\n",
    "    start_point = (i,i,32)\n",
    "    patch_image_arry, utime_read, utime_convert = \\\n",
    "        read_patch(patch_size,start_point,file_shape,\"test_data\\speed_test_int.txt\")\n",
    "    count+=1\n",
    "    utime_read_all+=utime_read\n",
    "    utime_convert_all+=utime_convert\n",
    "end16_t = time.time()\n",
    "print(end16_t-start_t)\n",
    "print(count)\n",
    "print(utime_read_all, utime_convert_all)"
   ]
  },
  {
   "cell_type": "code",
   "execution_count": null,
   "metadata": {
    "pycharm": {
     "is_executing": false
    }
   },
   "outputs": [],
   "source": [
    "example_ct_path = r\"test_data\\c_ct.mha\"\n",
    "image=sitk.ReadImage(example_ct_path)\n",
    "image_arry = sitk.GetArrayFromImage(image)"
   ]
  },
  {
   "cell_type": "code",
   "execution_count": null,
   "metadata": {
    "pycharm": {
     "is_executing": false
    }
   },
   "outputs": [],
   "source": [
    "# x,y,z\n",
    "list_ct = list(image_arry.flatten())\n",
    "for i in range(len(list_ct)):\n",
    "    list_ct[i] = str(list_ct[i])"
   ]
  },
  {
   "cell_type": "code",
   "execution_count": null,
   "metadata": {
    "pycharm": {
     "is_executing": false
    }
   },
   "outputs": [],
   "source": [
    "list_ct_int = list(image_arry.flatten())"
   ]
  },
  {
   "cell_type": "code",
   "execution_count": null,
   "metadata": {
    "pycharm": {
     "is_executing": false
    }
   },
   "outputs": [],
   "source": [
    "with open(\"test_data\\speed_test_int.txt\",\"wb\") as f:\n",
    "    f.writelines(list_ct_int)"
   ]
  },
  {
   "cell_type": "code",
   "execution_count": null,
   "metadata": {
    "pycharm": {
     "is_executing": false
    }
   },
   "outputs": [],
   "source": [
    "with open(\"speed_test.txt\",\"w\") as f:\n",
    "    f.writelines([line+'\\n' for line in list_ct])"
   ]
  },
  {
   "cell_type": "code",
   "execution_count": null,
   "metadata": {
    "pycharm": {
     "is_executing": false
    }
   },
   "outputs": [],
   "source": [
    "print(list_ct_int[0].dtype)\n",
    "print(len(list_ct_int))"
   ]
  },
  {
   "cell_type": "code",
   "execution_count": null,
   "metadata": {
    "pycharm": {
     "is_executing": false
    }
   },
   "outputs": [],
   "source": [
    "with open(\"speed_test.txt\",\"r\") as fin:\n",
    "    #fin.seek(0)\n",
    "    data = fin.readlines()\n",
    "len(data)"
   ]
  },
  {
   "cell_type": "code",
   "execution_count": null,
   "metadata": {
    "pycharm": {
     "is_executing": false
    }
   },
   "outputs": [],
   "source": [
    "data"
   ]
  },
  {
   "cell_type": "code",
   "execution_count": null,
   "metadata": {
    "pycharm": {
     "is_executing": false
    }
   },
   "outputs": [],
   "source": [
    "pic = []\n",
    "\n",
    "for i in range(0,1000,2):\n",
    "    num = int.from_bytes(data[i:i+2],byteorder='little', signed=True)\n",
    "    pic.append(num)"
   ]
  },
  {
   "cell_type": "code",
   "execution_count": null,
   "metadata": {
    "pycharm": {
     "is_executing": false
    }
   },
   "outputs": [],
   "source": [
    "result = read_patch(patch_size,start_point,file_shape,\"speed_test_int.txt\")"
   ]
  },
  {
   "cell_type": "code",
   "execution_count": null,
   "metadata": {
    "pycharm": {
     "is_executing": false
    }
   },
   "outputs": [],
   "source": []
  }
 ],
 "metadata": {
  "kernelspec": {
   "display_name": "Python 3",
   "language": "python",
   "name": "python3"
  },
  "language_info": {
   "codemirror_mode": {
    "name": "ipython",
    "version": 3
   },
   "file_extension": ".py",
   "mimetype": "text/x-python",
   "name": "python",
   "nbconvert_exporter": "python",
   "pygments_lexer": "ipython3",
   "version": "3.6.7"
  },
  "pycharm": {
   "stem_cell": {
    "cell_type": "raw",
    "source": [],
    "metadata": {
     "collapsed": false
    }
   }
  }
 },
 "nbformat": 4,
 "nbformat_minor": 2
}