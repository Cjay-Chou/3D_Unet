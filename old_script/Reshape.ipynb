{
 "cells": [
  {
   "cell_type": "code",
   "execution_count": 5,
   "metadata": {},
   "outputs": [],
   "source": [
    "import SimpleITK as sitk\n",
    "\n",
    "def Do_convert(image_path,out_path):\n",
    "    image = sitk.ReadImage(image_path)\n",
    "    \n",
    "    print(\"old_drct\",image.GetDirection())\n",
    "    print(\"old_spacing\",image.GetSpacing())\n",
    "    print(\"origin\", image.GetOrigin())\n",
    "    #dew_drct = (0.0, 0.0, -1.0, 0.0, -1.0, 0.0, -1.0, 0.0, 0.0)\n",
    "    dew_drct = (0.0, 0.0, 1.0, 0.0, 1.0, 0.0, 1.0, 0.0, 0.0)\n",
    "    image_array=sitk.GetArrayFromImage(image)\n",
    "    print(image_array.shape)\n",
    "    image_swap = image_array.transpose(2,1,0)\n",
    "    print(image_swap.shape)\n",
    "    outimage = sitk.GetImageFromArray(image_swap)\n",
    "    outimage.SetOrigin(image.GetOrigin())\n",
    "    outimage.SetSpacing(image.GetSpacing()[::-1])\n",
    "    outimage.SetDirection(dew_drct)\n",
    "    sitk.WriteImage(outimage, out_path, True)\n",
    "    "
   ]
  },
  {
   "cell_type": "code",
   "execution_count": 6,
   "metadata": {},
   "outputs": [
    {
     "name": "stdout",
     "output_type": "stream",
     "text": [
      "old_drct (1.0, 0.0, 0.0, 0.0, 1.0, 0.0, 0.0, 0.0, 1.0)\n",
      "old_spacing (0.66796875, 0.66796875, 3.0)\n",
      "origin (0.0, 0.0, 0.0)\n",
      "(147, 512, 512)\n",
      "(512, 512, 147)\n"
     ]
    }
   ],
   "source": [
    "image_path=r\"E:\\hist_01\\comp30\\img0001\\ct.mha\"\n",
    "image_path2=r\"E:\\hist_01\\comp30\\img0001\\ct2.mha\"\n",
    "Do_convert(image_path,image_path2)"
   ]
  },
  {
   "cell_type": "code",
   "execution_count": 25,
   "metadata": {},
   "outputs": [
    {
     "name": "stdout",
     "output_type": "stream",
     "text": [
      "old_drct (-0.0, 0.0, 1.0, 0.0, 1.0, 0.0, -1.0, 0.0, 0.0)\n",
      "old_spacing (3.0, 0.781624972820282, 0.781624972820282)\n",
      "origin (0.0, 0.0, 0.0)\n",
      "size (101, 602, 602)\n",
      "(602, 602, 101)\n"
     ]
    }
   ],
   "source": [
    "image_path3=r\"E:\\hist_01\\comp30\\img0001\\c_ct.mha\"\n",
    "kits_path = \"E:\\hist_01\\kits19\\case_00000\\ct_hist02.mha\"\n",
    "image = sitk.ReadImage(kits_path)\n",
    "print(\"old_drct\",image.GetDirection())\n",
    "print(\"old_spacing\",image.GetSpacing())\n",
    "print(\"origin\", image.GetOrigin())\n",
    "print(\"size\", image.GetSize())\n",
    "image_array2=sitk.GetArrayFromImage(image)\n",
    "print(image_array2.shape)\n"
   ]
  },
  {
   "cell_type": "code",
   "execution_count": 22,
   "metadata": {},
   "outputs": [
    {
     "data": {
      "text/plain": [
       "True"
      ]
     },
     "execution_count": 22,
     "metadata": {},
     "output_type": "execute_result"
    }
   ],
   "source": [
    "(image_array2==image_swap).all()"
   ]
  },
  {
   "cell_type": "code",
   "execution_count": null,
   "metadata": {},
   "outputs": [],
   "source": []
  }
 ],
 "metadata": {
  "kernelspec": {
   "display_name": "Python 3",
   "language": "python",
   "name": "python3"
  },
  "language_info": {
   "codemirror_mode": {
    "name": "ipython",
    "version": 3
   },
   "file_extension": ".py",
   "mimetype": "text/x-python",
   "name": "python",
   "nbconvert_exporter": "python",
   "pygments_lexer": "ipython3",
   "version": "3.7.5"
  }
 },
 "nbformat": 4,
 "nbformat_minor": 2
}
