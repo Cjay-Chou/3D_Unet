{
 "cells": [
  {
   "cell_type": "code",
   "execution_count": 1,
   "metadata": {},
   "outputs": [],
   "source": [
    "import sys\n",
    "import os\n",
    "import numpy as np\n",
    "import yaml\n",
    "import SimpleITK as sitk\n",
    "from pathlib import Path\n",
    "import copy\n",
    "from matplotlib import pyplot as plt\n",
    "\n",
    "def DICE(turelabel, result):\n",
    "    if np.max(turelabel)==0:\n",
    "        return -1\n",
    "    intersection=np.sum(np.minimum(np.equal(turelabel,result),turelabel))\n",
    "    union = np.count_nonzero(turelabel)+np.count_nonzero(result)\n",
    "    dice = 2 * intersection / union\n",
    "    return dice\n",
    "\n",
    "def averagenum(num):\n",
    "    nsum = 0\n",
    "    for i in range(len(num)):\n",
    "        nsum += num[i]\n",
    "    return nsum / len(num)\n",
    "\n",
    "def remove_minus(in_list):\n",
    "    out_list = copy.copy(in_list)\n",
    "    i=0\n",
    "    while i < len(out_list):\n",
    "        if out_list[i] < 0:\n",
    "            out_list.pop(i)\n",
    "            i -= 1\n",
    "        i += 1\n",
    "    return out_list"
   ]
  },
  {
   "cell_type": "code",
   "execution_count": 10,
   "metadata": {},
   "outputs": [],
   "source": [
    "mask_test =  ['000', '003', '005', '017', '024', '031', '043', '045', '046', '053', '055', '061', '064', '065', '066', '069', '079', '081', '089', '092', '095', '097', '099', '106', '115', '116', '122', '132', '133', '136', '138', '152', '155', '167', '174', '178', '188', '189', '192', '193', '209']\n",
    "test_list =  ['079', '056', '104', '185', '187', '039', '091', '031', '147', '160', '014', '051', '138', '123', '109', '202', '102','070', '116', '127', '043', '106', '094', '089', '103', '159', '016', '203', '065', '153', '174', '047', '139', '157']\n",
    "test_list2 =  ['079', '056', '104', '185', '187', '039', '091', '031', '147', '160', '014', '051', '138', '123', '109', '202', '102','070', '127', '043', '106', '094', '089', '103', '159', '016', '065', '153', '174', '047', '139', '157']\n",
    "def dice_cal(test_list,resultpath,cut = False):\n",
    "    kidney_dice = []\n",
    "    for num in test_list:\n",
    "        labelpath=r\"E:\\kits19_inter_processed\\case_00{}\\mask.mha\".format(num)\n",
    "        resultpath3d=os.path.join(resultpath,\"result{}.mha\".format(num))\n",
    "        if cut:\n",
    "            out = !C:\\Users\\vmlab\\Desktop\\itk_program\\processlabel_build\\Debug\\processlabel.exe $resultpath3d\n",
    "                \n",
    "        #print(out)\n",
    "        resultpath3d_pro=os.path.join(resultpath,\"result{}_pro_cut.nii.gz\".format(num))\n",
    "\n",
    "        image=sitk.ReadImage(labelpath)\n",
    "        result3d=sitk.ReadImage(resultpath3d_pro)\n",
    "\n",
    "        image_arry = sitk.GetArrayFromImage(image)\n",
    "        result3d_arry = sitk.GetArrayFromImage(result3d)\n",
    "        result3d_arry[result3d_arry > 0] = 1\n",
    "\n",
    "        kidney_dice.append(DICE(image_arry,result3d_arry))\n",
    "    print(\"average whole:\",averagenum(kidney_dice))\n",
    "    return kidney_dice\n"
   ]
  },
  {
   "cell_type": "code",
   "execution_count": 12,
   "metadata": {},
   "outputs": [
    {
     "name": "stdout",
     "output_type": "stream",
     "text": [
      "average whole: 0.9773344950848686\n",
      "average whole: 0.9782669914998054\n"
     ]
    }
   ],
   "source": [
    "dice_org20e = dice_cal(test_list2,\"E:\\\\Script_hist\\\\log_histall\\\\result\",cut=False)\n",
    "dice_changehist = dice_cal(test_list2,\"E:\\\\Script_hist\\\\log_lastcits19\\\\result\",cut=False)\n"
   ]
  },
  {
   "cell_type": "code",
   "execution_count": 13,
   "metadata": {
    "scrolled": false
   },
   "outputs": [
    {
     "name": "stdout",
     "output_type": "stream",
     "text": [
      "079 0.964671130205592 0.9619989390497694\n",
      "056 0.9759322616468432 0.9773051195946044\n",
      "104 0.9831855688485112 0.9849413370840499\n",
      "185 0.9816870586003221 0.9765083529918858\n",
      "187 0.9171001457780839 0.9613201942185163\n",
      "039 0.9793305076726152 0.9754674105217495\n",
      "091 0.9902440251669702 0.989243448735046\n",
      "031 0.9726693790907482 0.9713766375583577\n",
      "147 0.9789565516512527 0.9814487539469056\n",
      "160 0.9660690605872173 0.9700979546492913\n",
      "014 0.9839134571781315 0.9819452905326499\n",
      "051 0.9746085156924169 0.976135934501776\n",
      "138 0.9878069315266593 0.9874887988565312\n",
      "123 0.994029670119104 0.9893659021153577\n",
      "109 0.9736315723949039 0.977082357984511\n",
      "202 0.978710215490037 0.9806660239720049\n",
      "102 0.9793662800110677 0.975527776533541\n",
      "070 0.9570787604084439 0.9621657320719872\n",
      "116 0.9885886760022594 0.9872730340159008\n",
      "127 0.9906190734218369 0.9882397850567456\n",
      "043 0.974912180845152 0.9764294265461372\n",
      "106 0.9767399850323868 0.9740968430664678\n",
      "094 0.9865098880445232 0.9814882337620876\n",
      "089 0.9771396644059939 0.97295443856109\n",
      "103 0.9847405435159181 0.9828759947868022\n",
      "159 0.9836981151620046 0.978305092152557\n",
      "016 0.9749629272600299 0.9802288239451109\n",
      "203 0.98718055219913 0.983853873256247\n",
      "065 0.9834304830618711 0.9852300725844043\n",
      "153 0.9793113401646635 0.9796017873369123\n",
      "174 0.9719895343473812 0.965665897254459\n",
      "047 0.9758897871837259 0.9882144607503167\n"
     ]
    }
   ],
   "source": [
    "for i in range(len(dice_org20e)):\n",
    "    \n",
    "    print(test_list[i],dice_org20e[i],dice_changehist[i])"
   ]
  },
  {
   "cell_type": "code",
   "execution_count": 16,
   "metadata": {},
   "outputs": [
    {
     "name": "stdout",
     "output_type": "stream",
     "text": [
      "164 28 32\n"
     ]
    }
   ],
   "source": [
    "mask_train =  ['000', '006', '041', '052', '059', '071', '075', '082', '087', '095', '096', '097', '100', '115', '117', '118', '122', '128', '131', '132', '140', '142', '163', '167', '169', '177', '204', '004', '009', '010', '011', '018', '022', '034', '036', '061', '062', '066', '083', '111', '148', '168', '175', '176', '198', '008', '012', '030', '055', '067', '073', '078', '092', '107', '108', '149', '172', '178', '179', '181', '186', '189', '192', '197', '199', '024', '025', '028', '029', '042', '088', '113', '114', '135', '166', '171', '001', '002', '003', '007', '013', '017', '019', '027', '032', '033', '035', '038', '040', '044', '045', '048', '049', '050', '053', '064', '068', '072', '076', '077', '080', '085', '086', '090', '099', '101', '105', '110', '121', '124', '126', '129', '130', '133', '136', '144', '146', '151', '158', '162', '164', '170', '173', '196', '201', '207', '023', '054', '063', '120', '156', '191', '098', '057', '098', '150', '026', '069', '074', '082', '084', '102', '112', '119', '124', '125', '137', '141', '152', '156', '161', '178', '182', '183', '206', '041', '184', '005', '015', '154', '037', '021', '143', '208']\n",
    "mask_val =  ['159', '016', '203', '065', '153', '174', '047', '139', '157', '070', '116', '127', '043', '106', '094', '089', '103', '081', '020', '057', '015', '058', '134', '200', '195', '193', '165', '188']\n",
    "\n",
    "print(len(mask_train),len(mask_val),len(dice_org20e))"
   ]
  },
  {
   "cell_type": "code",
   "execution_count": 17,
   "metadata": {},
   "outputs": [
    {
     "name": "stdout",
     "output_type": "stream",
     "text": [
      "224\n"
     ]
    }
   ],
   "source": [
    "print(len(mask_train)+len(mask_val)+len(dice_org20e))"
   ]
  },
  {
   "cell_type": "code",
   "execution_count": null,
   "metadata": {},
   "outputs": [],
   "source": []
  }
 ],
 "metadata": {
  "kernelspec": {
   "display_name": "Python 3",
   "language": "python",
   "name": "python3"
  },
  "language_info": {
   "codemirror_mode": {
    "name": "ipython",
    "version": 3
   },
   "file_extension": ".py",
   "mimetype": "text/x-python",
   "name": "python",
   "nbconvert_exporter": "python",
   "pygments_lexer": "ipython3",
   "version": "3.6.7"
  }
 },
 "nbformat": 4,
 "nbformat_minor": 2
}
